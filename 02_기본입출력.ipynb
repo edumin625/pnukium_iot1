{
  "nbformat": 4,
  "nbformat_minor": 0,
  "metadata": {
    "colab": {
      "provenance": [],
      "toc_visible": true
    },
    "kernelspec": {
      "name": "python3",
      "display_name": "Python 3"
    },
    "language_info": {
      "name": "python"
    }
  },
  "cells": [
    {
      "cell_type": "markdown",
      "metadata": {
        "id": "njfK-CCSVM2-"
      },
      "source": [
        "# 파이썬 (Python)\n",
        "\n",
        "* 1990년 암스테르담의 귀도 반 로섬(Guido Van Rossum)이 개발한 **플랫폼 독립**적인 **인터프리터** 언어 \n",
        "  + 변수를 선언할 때 타입을 지정하지 않음\n",
        "  + 값을 할당하면 그때 동적으로 타입이 정해짐\n",
        "  + 타입이 다를 경우 형 변환을 해줘야 연산에 사용할 수 있음"
      ]
    },
    {
      "cell_type": "markdown",
      "metadata": {
        "id": "DP4PDM6ghcIx"
      },
      "source": [
        "## 파이썬 개발 환경\n",
        "![파이썬 개발 환경](https://drive.google.com/uc?export=view&id=1HMMji73USeCRJMbPsSRHbBW0A9vsMmIr)"
      ]
    },
    {
      "cell_type": "markdown",
      "metadata": {
        "id": "50aewi0Ph7mY"
      },
      "source": [
        "## 코랩 셀(Cell)\n",
        "![셀](https://drive.google.com/uc?export=view&id=1_SUoGflE-ynW8nNpgKApqQ9kvVqL0Rqf)\n",
        "\n",
        "\n",
        "+ 텍스트 셀\n",
        "   + 마크업 언어인 Markdown으로 작성\n",
        "   + 서식이 지정된 텍스트, 이미지, HTML, LaTeX 등을 포함 \n",
        "+ 코드 셀   \n",
        "   + Python 작성 \n",
        "   + 시스템/터미널 명령을 삽입가능(라인 앞에 !를 붙임)\n",
        "+ 코드 출력셀\n",
        "   + 해당 셀 아래 코드 실행 결과\n",
        "   + 코드를 실행하는 동안 발생한 오류에 대한 텍스트, 그래픽 및 정보가 포함"
      ]
    },
    {
      "cell_type": "markdown",
      "metadata": {
        "id": "W2eo6C8_VjCg"
      },
      "source": [
        "## 마크다운 문법\n",
        "\n",
        "+ https://colab.research.google.com/notebooks/markdown_guide.ipynb\n"
      ]
    },
    {
      "cell_type": "code",
      "source": [],
      "metadata": {
        "id": "LDWCHtRc3ZEG"
      },
      "execution_count": null,
      "outputs": []
    },
    {
      "cell_type": "markdown",
      "source": [
        " \n",
        "# 파이썬 기본 문법\n",
        "* 주석 : 프로그램 실행과 관계 없이 코드에 대한 설명을 작성\n",
        "  + 한줄 주석 : # \n",
        "  + 여러줄 주석 : 작은따옴표 세개('''주석내용''')\n",
        "\n",
        "* 들여쓰기(indent)\n",
        "  + 코드 블럭을 구성하기 위해서는 반드시 들여쓰기 해야함\n",
        "\n",
        "* 행분리 : 역슬래쉬(\\\\)\n",
        "  + 하나의 명령을 여러 줄에 수행\n",
        "\n",
        "* 행결합 : 세미콜론(;)\n",
        "  + 한 줄에 여러 명령 수행"
      ],
      "metadata": {
        "id": "mSD5F112thsW"
      }
    },
    {
      "cell_type": "code",
      "source": [
        "'''\n",
        "작성자 : 김경민\n",
        "'''\n",
        "\n",
        "print('Hello Python!') #첫번째 출력코드\n",
        "\n",
        "# 행분리\n",
        "print('Hello \\\n",
        "Python!')\n",
        "\n",
        "# 행결합\n",
        "print('Hello', end=' '); print('Python!')"
      ],
      "metadata": {
        "id": "hFpoV6SfuNwo"
      },
      "execution_count": null,
      "outputs": []
    },
    {
      "cell_type": "markdown",
      "source": [
        "# 표준 입력 : input() \n",
        "* 표준 입력 장치인 키보드로 부터 입력\n",
        "* 입력된 값은 문자열\n",
        "```python\n",
        "input() # 표준 입력장치로 부터 문자열을 입력\n",
        "input('문자열') # 문자열을 출력하고 표준 입력장치로 부터 문자열 입력\n",
        "```"
      ],
      "metadata": {
        "id": "h8SaUzZttpYQ"
      }
    },
    {
      "cell_type": "code",
      "source": [],
      "metadata": {
        "id": "hubqYtoMtq75"
      },
      "execution_count": null,
      "outputs": []
    },
    {
      "cell_type": "markdown",
      "source": [
        "# 변수(Variable)\n",
        "* 필요한 데이터를 저장해 놓는 기억 공간의 별칭\n",
        "* 변수 명 규칙\n",
        "  + 영문 문자와 숫자 사용 : 대소문자 구분\n",
        "  + 문자나 _(밑줄 문자)로 시작 : 숫자부터 시작하면 안 됨\n",
        "  + 특수 문자(+, -, *, /, $, @, &, % 등)는 사용할 수 없음\n",
        "  + python 키워드(if, for, while, and, or 등)는 사용할 수 없음"
      ],
      "metadata": {
        "id": "fOQtNORXuaig"
      }
    },
    {
      "cell_type": "code",
      "source": [],
      "metadata": {
        "id": "-KdB2S3wubTt"
      },
      "execution_count": null,
      "outputs": []
    },
    {
      "cell_type": "markdown",
      "metadata": {
        "id": "G-2cd68cVYhM"
      },
      "source": [
        "### 파이썬 출력\n",
        "```python\n",
        "print(출력문자열)\n",
        "```"
      ]
    },
    {
      "cell_type": "code",
      "metadata": {
        "colab": {
          "base_uri": "https://localhost:8080/"
        },
        "id": "M9TVTtKsPciI",
        "outputId": "60ad7b28-5f3b-4585-dd77-96eeb6d525a7"
      },
      "source": [
        "print('Hello Python!!')"
      ],
      "execution_count": null,
      "outputs": [
        {
          "output_type": "stream",
          "name": "stdout",
          "text": [
            "Hello Python!!\n"
          ]
        }
      ]
    },
    {
      "cell_type": "markdown",
      "source": [
        "# 연산자\n",
        "자료를 처리하기 위한 수식들을 결합하여 연산 동작을 수행하도록 하는 기호\n",
        "\n",
        "+ 산술연산자\n",
        "  - 수학적 계산을 수행할 때 사용하는 연산자\n",
        "  - 사칙연산자(+, -, \\*, /), 제곱(\\**), 나머지(%), 나누기 결과 정수(//)\n",
        "\n",
        "+ 비교연산자(관계연산자)\n",
        "  - 비교할 때 사용하는 연산자\n",
        "  - 등호(==), 같지 않음(!=), 부등호(<, >, <=, >=)\n",
        "\n",
        "+ 논리연산자\n",
        "  - 주어진 논리식을 판단하여, 참(true)과 거짓(false)을 결정하는 연산자\n",
        "  - and(논리곱), or(논리합), not\n",
        "\n",
        "+ 할당연산자(=)\n",
        "  - 변수에 값을 할당하기 위하여 사용하는 연산자"
      ],
      "metadata": {
        "id": "pZeG6BqXvsNI"
      }
    },
    {
      "cell_type": "markdown",
      "source": [
        "# 해결문제\n",
        "---\n",
        "부산대학교 앞에서 분식가게를 시작하였다. \n",
        "\n",
        "메뉴는 떡볶이와 라면, 튀김이다. \n",
        "\n",
        "매일 저녁 가게를 마치면서 정산을 한다. \n",
        "\n",
        "이때 각 메뉴별 매출과 총 매출을 정리하여 아래와 같이 출력해주는 프로그램을 만들어보자.\n",
        "\n",
        "\n",
        "---\n",
        "\n",
        "* 단가\n",
        "  * 떡볶이 : 2000\n",
        "  * 라면 : 3000\n",
        "  * 튀김 : 500\n",
        "\n",
        "* 판매량\n",
        "  * 떡볶이 : 43\n",
        "  * 라면 : 62\n",
        "  * 튀김 : 89\n",
        "\n",
        "\n",
        "* 매출 결과\n",
        "\n",
        "```\n",
        "-----<오늘의 매출 정산>------\n",
        "떡볶이의 매출: 86000원\n",
        "라면의 매출: 186000원\n",
        "튀김의 매출: 44500원\n",
        "오늘의 총 매출은 316500원입니다.\n",
        "```\n"
      ],
      "metadata": {
        "id": "wIp5U4uurOdY"
      }
    },
    {
      "cell_type": "code",
      "source": [],
      "metadata": {
        "id": "pCD9g4nWrUNA"
      },
      "execution_count": null,
      "outputs": []
    },
    {
      "cell_type": "markdown",
      "source": [
        "# **실습과제**\n",
        "---\n",
        "\n",
        "원의 반지름을 입력받아 아래 공식을 참고해서 원의 넓이와 둘레를 구하고, 아래와 같이 출력해주자.\n",
        "\n",
        "\n",
        "---\n",
        "\n",
        "* 공식\n",
        "  + 원의 면적 : $A = \\pi r^2$\n",
        "  + 원의 둘레 : $C = 2\\pi r$"
      ],
      "metadata": {
        "id": "H5aAanDZrXpY"
      }
    },
    {
      "cell_type": "code",
      "source": [],
      "metadata": {
        "id": "6ulqlRjrraY7"
      },
      "execution_count": null,
      "outputs": []
    }
  ]
}